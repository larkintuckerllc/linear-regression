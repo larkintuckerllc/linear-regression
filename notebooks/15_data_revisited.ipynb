{
 "cells": [
  {
   "cell_type": "markdown",
   "id": "d9f86877-67ea-4c72-a93e-6927707d53bd",
   "metadata": {},
   "source": [
    "# Imports"
   ]
  },
  {
   "cell_type": "code",
   "execution_count": 2,
   "id": "7dfea64b-0c01-49ae-8997-4c7a2cb2671c",
   "metadata": {},
   "outputs": [],
   "source": [
    "import boto3"
   ]
  },
  {
   "cell_type": "markdown",
   "id": "7f95ebcc-26a8-407d-90df-8c1541fe8034",
   "metadata": {},
   "source": [
    "# Constants"
   ]
  },
  {
   "cell_type": "code",
   "execution_count": 3,
   "id": "4a112306-dbce-460d-9943-a64f458f8099",
   "metadata": {},
   "outputs": [],
   "source": [
    "BUCKET = \"amazon-sagemaker-ai-by-example-working\"\n",
    "S3 = boto3.client(\"s3\")\n",
    "TEST_LOCAL = \"../data/test.csv\"\n",
    "TEST_REMOTE = \"data/test/test.csv\"\n",
    "TRAIN_LOCAL = \"../data/train.csv\"\n",
    "TRAIN_REMOTE = \"data/train/train.csv\"\n",
    "VALIDATION_LOCAL = \"../data/validation.csv\"\n",
    "VALIDATION_REMOTE = \"data/validation/validation.csv\""
   ]
  }
 ],
 "metadata": {
  "kernelspec": {
   "display_name": "user-env:(linear-regression)",
   "language": "python",
   "name": "linear-regression"
  },
  "language_info": {
   "codemirror_mode": {
    "name": "ipython",
    "version": 3
   },
   "file_extension": ".py",
   "mimetype": "text/x-python",
   "name": "python",
   "nbconvert_exporter": "python",
   "pygments_lexer": "ipython3",
   "version": "3.11.11"
  }
 },
 "nbformat": 4,
 "nbformat_minor": 5
}
