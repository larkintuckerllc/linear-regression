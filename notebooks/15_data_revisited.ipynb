{
 "cells": [
  {
   "cell_type": "markdown",
   "id": "d9f86877-67ea-4c72-a93e-6927707d53bd",
   "metadata": {
    "editable": true,
    "slideshow": {
     "slide_type": ""
    },
    "tags": []
   },
   "source": [
    "# Imports"
   ]
  },
  {
   "cell_type": "code",
   "execution_count": 2,
   "id": "7dfea64b-0c01-49ae-8997-4c7a2cb2671c",
   "metadata": {},
   "outputs": [],
   "source": [
    "import boto3"
   ]
  },
  {
   "cell_type": "markdown",
   "id": "7f95ebcc-26a8-407d-90df-8c1541fe8034",
   "metadata": {},
   "source": [
    "# Constants"
   ]
  },
  {
   "cell_type": "code",
   "execution_count": 3,
   "id": "4a112306-dbce-460d-9943-a64f458f8099",
   "metadata": {
    "editable": true,
    "slideshow": {
     "slide_type": ""
    },
    "tags": []
   },
   "outputs": [],
   "source": [
    "BUCKET = \"amazon-sagemaker-ai-by-example-working\"\n",
    "S3 = boto3.client(\"s3\")\n",
    "TEST_LOCAL = \"../data/test.csv\"\n",
    "TEST_REMOTE = \"data/test/test.csv\"\n",
    "TRAIN_LOCAL = \"../data/train.csv\"\n",
    "TRAIN_REMOTE = \"data/train/train.csv\"\n",
    "VALIDATION_LOCAL = \"../data/validation.csv\"\n",
    "VALIDATION_REMOTE = \"data/validation/validation.csv\""
   ]
  },
  {
   "cell_type": "markdown",
   "id": "d279fbe4-1947-471b-a549-6c49e381d754",
   "metadata": {
    "editable": true,
    "slideshow": {
     "slide_type": ""
    },
    "tags": []
   },
   "source": [
    "# Load"
   ]
  },
  {
   "cell_type": "code",
   "execution_count": 1,
   "id": "5a558666-7d51-45e5-a656-297fcbcf1ba1",
   "metadata": {},
   "outputs": [],
   "source": [
    "%load_ext amazon_sagemaker_sql_magic"
   ]
  },
  {
   "cell_type": "code",
   "execution_count": 5,
   "id": "5c73852a-60d7-4f51-80c6-d7900bc7d9d9",
   "metadata": {
    "editable": true,
    "slideshow": {
     "slide_type": ""
    },
    "tags": []
   },
   "outputs": [
    {
     "name": "stdout",
     "output_type": "stream",
     "text": [
      "Saved results to working_df\n"
     ]
    }
   ],
   "source": [
    "%%sm_sql --connection-properties '{\"connection_type\":\"ATHENA\",\"work_group\":\"primary\"}' --output '{\"format\": \"DATAFRAME\", \"dataframe_name\": \"working_df\"}' --apply-default-row-limit false\n",
    "\n",
    "\n",
    "-- Query to list columns in table 'AwsDataCatalog.taxi.taxi'\n",
    "SELECT\n",
    "  FARE, TRIP_MILES, TRIP_SECONDS\n",
    "FROM\n",
    "  \"AwsDataCatalog\".\"taxi\".\"taxi\""
   ]
  },
  {
   "cell_type": "markdown",
   "id": "feaf2d3a-d10d-43f4-b0c3-626c7982d038",
   "metadata": {},
   "source": [
    "# Organize"
   ]
  },
  {
   "cell_type": "code",
   "execution_count": 6,
   "id": "b6229d92-374d-4505-8d94-eb5bc4ebc811",
   "metadata": {
    "editable": true,
    "slideshow": {
     "slide_type": ""
    },
    "tags": []
   },
   "outputs": [
    {
     "data": {
      "text/html": [
       "<div>\n",
       "<style scoped>\n",
       "    .dataframe tbody tr th:only-of-type {\n",
       "        vertical-align: middle;\n",
       "    }\n",
       "\n",
       "    .dataframe tbody tr th {\n",
       "        vertical-align: top;\n",
       "    }\n",
       "\n",
       "    .dataframe thead th {\n",
       "        text-align: right;\n",
       "    }\n",
       "</style>\n",
       "<table border=\"1\" class=\"dataframe\">\n",
       "  <thead>\n",
       "    <tr style=\"text-align: right;\">\n",
       "      <th></th>\n",
       "      <th>FARE</th>\n",
       "      <th>TRIP_MILES</th>\n",
       "      <th>TRIP_MINUTES</th>\n",
       "    </tr>\n",
       "  </thead>\n",
       "  <tbody>\n",
       "    <tr>\n",
       "      <th>0</th>\n",
       "      <td>31.99</td>\n",
       "      <td>2.57</td>\n",
       "      <td>39.016666</td>\n",
       "    </tr>\n",
       "    <tr>\n",
       "      <th>1</th>\n",
       "      <td>9.75</td>\n",
       "      <td>1.18</td>\n",
       "      <td>17.900000</td>\n",
       "    </tr>\n",
       "    <tr>\n",
       "      <th>2</th>\n",
       "      <td>10.25</td>\n",
       "      <td>1.29</td>\n",
       "      <td>19.549999</td>\n",
       "    </tr>\n",
       "    <tr>\n",
       "      <th>3</th>\n",
       "      <td>23.75</td>\n",
       "      <td>3.70</td>\n",
       "      <td>56.000000</td>\n",
       "    </tr>\n",
       "    <tr>\n",
       "      <th>4</th>\n",
       "      <td>10.00</td>\n",
       "      <td>1.15</td>\n",
       "      <td>17.400000</td>\n",
       "    </tr>\n",
       "  </tbody>\n",
       "</table>\n",
       "</div>"
      ],
      "text/plain": [
       "    FARE  TRIP_MILES  TRIP_MINUTES\n",
       "0  31.99        2.57     39.016666\n",
       "1   9.75        1.18     17.900000\n",
       "2  10.25        1.29     19.549999\n",
       "3  23.75        3.70     56.000000\n",
       "4  10.00        1.15     17.400000"
      ]
     },
     "execution_count": 6,
     "metadata": {},
     "output_type": "execute_result"
    }
   ],
   "source": [
    "working_df[\"TRIP_MINUTES\"] = working_df[\"TRIP_SECONDS\"] / 60.0\n",
    "working_df.pop(\"TRIP_SECONDS\")\n",
    "working_df[\"FARE\"] = working_df['FARE'].astype('float32')\n",
    "working_df[\"TRIP_MILES\"] = working_df['TRIP_MILES'].astype('float32')\n",
    "working_df[\"TRIP_MINUTES\"] = working_df['TRIP_MINUTES'].astype('float32')\n",
    "working_df.head()"
   ]
  }
 ],
 "metadata": {
  "kernelspec": {
   "display_name": "user-env:(linear-regression)",
   "language": "python",
   "name": "linear-regression"
  },
  "language_info": {
   "codemirror_mode": {
    "name": "ipython",
    "version": 3
   },
   "file_extension": ".py",
   "mimetype": "text/x-python",
   "name": "python",
   "nbconvert_exporter": "python",
   "pygments_lexer": "ipython3",
   "version": "3.11.11"
  }
 },
 "nbformat": 4,
 "nbformat_minor": 5
}
