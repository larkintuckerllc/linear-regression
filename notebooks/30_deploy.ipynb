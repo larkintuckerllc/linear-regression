{
 "cells": [
  {
   "cell_type": "markdown",
   "id": "115eb9a8-241e-48fe-8f99-df54d2890380",
   "metadata": {},
   "source": [
    "# Imports"
   ]
  },
  {
   "cell_type": "code",
   "execution_count": 4,
   "id": "644084c4-0a46-41a1-a942-4ae1044316f3",
   "metadata": {},
   "outputs": [],
   "source": [
    "import sagemaker"
   ]
  },
  {
   "cell_type": "markdown",
   "id": "27f0fcf8-468b-41fa-a1cf-e17c9b2cf296",
   "metadata": {},
   "source": [
    "# Constants"
   ]
  },
  {
   "cell_type": "code",
   "execution_count": 5,
   "id": "e5beeefd-419d-467e-9b52-776e8faf304b",
   "metadata": {},
   "outputs": [],
   "source": [
    "MODEL_DATA = \"s3://amazon-sagemaker-ai-by-example-working/output/linear-learner-2025-03-03-23-01-53-937/output/model.tar.gz\""
   ]
  },
  {
   "cell_type": "markdown",
   "id": "beec88ef-d8f7-4900-880e-0e00417cb6cd",
   "metadata": {},
   "source": [
    "# Set Up"
   ]
  },
  {
   "cell_type": "code",
   "execution_count": 6,
   "id": "896c6a5f-3bf9-4189-94fd-6148922470f6",
   "metadata": {},
   "outputs": [],
   "source": [
    "sess = sagemaker.Session()\n",
    "region = sess.boto_region_name\n",
    "container = sagemaker.image_uris.retrieve(region=region, framework=\"linear-learner\")\n",
    "role = sagemaker.get_execution_role()\n",
    "model = sagemaker.model.Model(image_uri=container, model_data=MODEL_DATA, role=role)"
   ]
  },
  {
   "cell_type": "markdown",
   "id": "211ace3f-67f2-4ffe-9e42-fad0c62f372b",
   "metadata": {},
   "source": [
    "# Deploy"
   ]
  },
  {
   "cell_type": "code",
   "execution_count": 8,
   "id": "066fd3d4-a0b7-4bc7-a1df-7a30df0fef65",
   "metadata": {},
   "outputs": [
    {
     "name": "stdout",
     "output_type": "stream",
     "text": [
      "--------!CPU times: user 78.3 ms, sys: 9.67 ms, total: 88 ms\n",
      "Wall time: 4min 32s\n"
     ]
    }
   ],
   "source": [
    "%%time\n",
    "model_predictor = model.deploy(initial_instance_count=1, instance_type=\"ml.c4.xlarge\")"
   ]
  }
 ],
 "metadata": {
  "kernelspec": {
   "display_name": "Python 3 (ipykernel)",
   "language": "python",
   "name": "python3"
  },
  "language_info": {
   "codemirror_mode": {
    "name": "ipython",
    "version": 3
   },
   "file_extension": ".py",
   "mimetype": "text/x-python",
   "name": "python",
   "nbconvert_exporter": "python",
   "pygments_lexer": "ipython3",
   "version": "3.11.11"
  }
 },
 "nbformat": 4,
 "nbformat_minor": 5
}
