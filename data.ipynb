{
 "cells": [
  {
   "cell_type": "code",
   "execution_count": 11,
   "id": "c8c10281-c974-4258-8ab2-90850a5aa4b0",
   "metadata": {},
   "outputs": [],
   "source": [
    "import pandas as pd"
   ]
  },
  {
   "cell_type": "code",
   "execution_count": 12,
   "id": "3bfb24a6-6f90-432e-aa79-caea94b68336",
   "metadata": {},
   "outputs": [
    {
     "name": "stdout",
     "output_type": "stream",
     "text": [
      "The amazon_sagemaker_sql_magic extension is already loaded. To reload it, use:\n",
      "  %reload_ext amazon_sagemaker_sql_magic\n"
     ]
    }
   ],
   "source": [
    "%load_ext amazon_sagemaker_sql_magic"
   ]
  },
  {
   "cell_type": "code",
   "execution_count": 13,
   "id": "ed517965-ff0d-45a8-a51e-c16bf633e98d",
   "metadata": {
    "scrolled": true
   },
   "outputs": [
    {
     "name": "stdout",
     "output_type": "stream",
     "text": [
      "Saved results to training_df\n"
     ]
    }
   ],
   "source": [
    "%%sm_sql --connection-properties '{\"connection_type\":\"ATHENA\",\"work_group\":\"primary\"}' --output '{\"format\": \"DATAFRAME\", \"dataframe_name\": \"training_df\"}'\n",
    "\n",
    "\n",
    "-- Query to list columns in table 'AwsDataCatalog.taxi.taxi'\n",
    "SELECT\n",
    "  TRIP_MILES, TRIP_SECONDS, FARE, COMPANY, PAYMENT_TYPE, TIP_RATE\n",
    "FROM\n",
    "  \"AwsDataCatalog\".\"taxi\".\"taxi\""
   ]
  },
  {
   "cell_type": "code",
   "execution_count": 14,
   "id": "0b197818-0b68-4a51-89ce-95c7ee25f2cc",
   "metadata": {},
   "outputs": [
    {
     "name": "stdout",
     "output_type": "stream",
     "text": [
      "Read dataset completed successfully.\n",
      "Total number of rows: 1000\n",
      "\n",
      "\n"
     ]
    },
    {
     "data": {
      "text/html": [
       "<div>\n",
       "<style scoped>\n",
       "    .dataframe tbody tr th:only-of-type {\n",
       "        vertical-align: middle;\n",
       "    }\n",
       "\n",
       "    .dataframe tbody tr th {\n",
       "        vertical-align: top;\n",
       "    }\n",
       "\n",
       "    .dataframe thead th {\n",
       "        text-align: right;\n",
       "    }\n",
       "</style>\n",
       "<table border=\"1\" class=\"dataframe\">\n",
       "  <thead>\n",
       "    <tr style=\"text-align: right;\">\n",
       "      <th></th>\n",
       "      <th>TRIP_MILES</th>\n",
       "      <th>TRIP_SECONDS</th>\n",
       "      <th>FARE</th>\n",
       "      <th>COMPANY</th>\n",
       "      <th>PAYMENT_TYPE</th>\n",
       "      <th>TIP_RATE</th>\n",
       "    </tr>\n",
       "  </thead>\n",
       "  <tbody>\n",
       "    <tr>\n",
       "      <th>0</th>\n",
       "      <td>2.57</td>\n",
       "      <td>2341</td>\n",
       "      <td>31.99</td>\n",
       "      <td>Flash Cab</td>\n",
       "      <td>Mobile</td>\n",
       "      <td>6.3</td>\n",
       "    </tr>\n",
       "    <tr>\n",
       "      <th>1</th>\n",
       "      <td>1.18</td>\n",
       "      <td>1074</td>\n",
       "      <td>9.75</td>\n",
       "      <td>Flash Cab</td>\n",
       "      <td>Credit Card</td>\n",
       "      <td>27.9</td>\n",
       "    </tr>\n",
       "    <tr>\n",
       "      <th>2</th>\n",
       "      <td>1.29</td>\n",
       "      <td>1173</td>\n",
       "      <td>10.25</td>\n",
       "      <td>Sun Taxi</td>\n",
       "      <td>Cash</td>\n",
       "      <td>0.0</td>\n",
       "    </tr>\n",
       "    <tr>\n",
       "      <th>3</th>\n",
       "      <td>3.70</td>\n",
       "      <td>3360</td>\n",
       "      <td>23.75</td>\n",
       "      <td>Choice Taxi Association</td>\n",
       "      <td>Cash</td>\n",
       "      <td>0.0</td>\n",
       "    </tr>\n",
       "    <tr>\n",
       "      <th>4</th>\n",
       "      <td>1.15</td>\n",
       "      <td>1044</td>\n",
       "      <td>10.00</td>\n",
       "      <td>Flash Cab</td>\n",
       "      <td>Cash</td>\n",
       "      <td>0.0</td>\n",
       "    </tr>\n",
       "    <tr>\n",
       "      <th>...</th>\n",
       "      <td>...</td>\n",
       "      <td>...</td>\n",
       "      <td>...</td>\n",
       "      <td>...</td>\n",
       "      <td>...</td>\n",
       "      <td>...</td>\n",
       "    </tr>\n",
       "    <tr>\n",
       "      <th>195</th>\n",
       "      <td>1.13</td>\n",
       "      <td>821</td>\n",
       "      <td>9.00</td>\n",
       "      <td>Blue Ribbon Taxi Association</td>\n",
       "      <td>Mobile</td>\n",
       "      <td>22.9</td>\n",
       "    </tr>\n",
       "    <tr>\n",
       "      <th>196</th>\n",
       "      <td>0.57</td>\n",
       "      <td>414</td>\n",
       "      <td>6.00</td>\n",
       "      <td>Flash Cab</td>\n",
       "      <td>Cash</td>\n",
       "      <td>0.0</td>\n",
       "    </tr>\n",
       "    <tr>\n",
       "      <th>197</th>\n",
       "      <td>1.22</td>\n",
       "      <td>886</td>\n",
       "      <td>9.00</td>\n",
       "      <td>City Service</td>\n",
       "      <td>Cash</td>\n",
       "      <td>0.0</td>\n",
       "    </tr>\n",
       "    <tr>\n",
       "      <th>198</th>\n",
       "      <td>1.68</td>\n",
       "      <td>1219</td>\n",
       "      <td>9.00</td>\n",
       "      <td>Sun Taxi</td>\n",
       "      <td>Mobile</td>\n",
       "      <td>23.0</td>\n",
       "    </tr>\n",
       "    <tr>\n",
       "      <th>199</th>\n",
       "      <td>0.71</td>\n",
       "      <td>515</td>\n",
       "      <td>6.50</td>\n",
       "      <td>Sun Taxi</td>\n",
       "      <td>Credit Card</td>\n",
       "      <td>18.2</td>\n",
       "    </tr>\n",
       "  </tbody>\n",
       "</table>\n",
       "<p>200 rows × 6 columns</p>\n",
       "</div>"
      ],
      "text/plain": [
       "     TRIP_MILES  TRIP_SECONDS   FARE                       COMPANY  \\\n",
       "0          2.57          2341  31.99                     Flash Cab   \n",
       "1          1.18          1074   9.75                     Flash Cab   \n",
       "2          1.29          1173  10.25                      Sun Taxi   \n",
       "3          3.70          3360  23.75       Choice Taxi Association   \n",
       "4          1.15          1044  10.00                     Flash Cab   \n",
       "..          ...           ...    ...                           ...   \n",
       "195        1.13           821   9.00  Blue Ribbon Taxi Association   \n",
       "196        0.57           414   6.00                     Flash Cab   \n",
       "197        1.22           886   9.00                  City Service   \n",
       "198        1.68          1219   9.00                      Sun Taxi   \n",
       "199        0.71           515   6.50                      Sun Taxi   \n",
       "\n",
       "    PAYMENT_TYPE  TIP_RATE  \n",
       "0         Mobile       6.3  \n",
       "1    Credit Card      27.9  \n",
       "2           Cash       0.0  \n",
       "3           Cash       0.0  \n",
       "4           Cash       0.0  \n",
       "..           ...       ...  \n",
       "195       Mobile      22.9  \n",
       "196         Cash       0.0  \n",
       "197         Cash       0.0  \n",
       "198       Mobile      23.0  \n",
       "199  Credit Card      18.2  \n",
       "\n",
       "[200 rows x 6 columns]"
      ]
     },
     "execution_count": 14,
     "metadata": {},
     "output_type": "execute_result"
    }
   ],
   "source": [
    "print('Read dataset completed successfully.')\n",
    "print('Total number of rows: {0}\\n\\n'.format(len(training_df.index)))\n",
    "training_df.head(200)"
   ]
  },
  {
   "cell_type": "code",
   "execution_count": null,
   "id": "f1caca0e-3d2b-4bf3-bee8-9ded6c71f2f8",
   "metadata": {},
   "outputs": [],
   "source": []
  },
  {
   "cell_type": "code",
   "execution_count": null,
   "id": "03a83032-9bfe-4a53-88f3-9aaac7ffb2e2",
   "metadata": {},
   "outputs": [],
   "source": []
  }
 ],
 "metadata": {
  "kernelspec": {
   "display_name": "user-env:(linear-regression)",
   "language": "python",
   "name": "linear-regression"
  },
  "language_info": {
   "codemirror_mode": {
    "name": "ipython",
    "version": 3
   },
   "file_extension": ".py",
   "mimetype": "text/x-python",
   "name": "python",
   "nbconvert_exporter": "python",
   "pygments_lexer": "ipython3",
   "version": "3.11.11"
  }
 },
 "nbformat": 4,
 "nbformat_minor": 5
}
